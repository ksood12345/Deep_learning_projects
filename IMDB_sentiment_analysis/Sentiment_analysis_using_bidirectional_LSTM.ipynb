{
  "nbformat": 4,
  "nbformat_minor": 0,
  "metadata": {
    "colab": {
      "name": "Sentiment_analysis_using_bidirectional_LSTM.ipynb",
      "provenance": [],
      "collapsed_sections": []
    },
    "kernelspec": {
      "name": "python3",
      "display_name": "Python 3"
    },
    "language_info": {
      "name": "python"
    },
    "accelerator": "GPU"
  },
  "cells": [
    {
      "cell_type": "code",
      "metadata": {
        "id": "dQyG7zpMaAD1"
      },
      "source": [
        "import re\n",
        "import spacy\n",
        "import numpy as np\n",
        "import pandas as pd\n",
        "from sklearn.model_selection import train_test_split\n",
        "import en_core_web_sm\n",
        "import tensorflow as tf\n",
        "from nltk.stem import WordNetLemmatizer\n",
        "from tensorflow.keras.optimizers import Adam\n",
        "from tensorflow.keras.models import Sequential\n",
        "from spacy.lang.en.stop_words import STOP_WORDS\n",
        "from tensorflow.keras.preprocessing.text import Tokenizer\n",
        "from tensorflow.keras.preprocessing.sequence import pad_sequences\n",
        "from tensorflow.keras.layers.experimental.preprocessing import TextVectorization\n",
        "from tensorflow.keras.layers import Embedding, LSTM, Dense, Bidirectional, Dropout\n",
        "nlp = en_core_web_sm.load()\n",
        "lemmatizer = WordNetLemmatizer()\n",
        "stopwords = STOP_WORDS\n",
        "EMOJI_PATTERN = re.compile(\n",
        "    \"[\"\n",
        "    u\"U0001F600-U0001F64F\"  # emoticons\n",
        "    u\"U0001F300-U0001F5FF\"  # symbols & pictographs\n",
        "    u\"U0001F680-U0001F6FF\"  # transport & map symbols\n",
        "    u\"U0001F1E0-U0001F1FF\"  # flags (iOS)\n",
        "    u\"U00002702-U000027B0\"\n",
        "    u\"U000024C2-U0001F251\"\n",
        "    \"]+\", flags=re.UNICODE\n",
        ")\n",
        "FILTERS = '!\"#$%&()*+,-/:;?@[\\]^_`{|}~tn'\n",
        "HTML_TAG_PATTERN = re.compile(r']*>')\n",
        "NUMBERING_PATTERN = re.compile('d+(?:st|[nr]d|th)')\n",
        "DISABLE_PIPELINES = [\"tok2vec\", \"parser\", \"ner\", \"textcat\", \"custom\", \"lemmatizer\"]"
      ],
      "execution_count": 1,
      "outputs": []
    },
    {
      "cell_type": "code",
      "metadata": {
        "colab": {
          "base_uri": "https://localhost:8080/",
          "height": 0
        },
        "id": "L09d4H2oefTc",
        "outputId": "8c72ed46-7cca-4932-ad0f-6a85754c634a"
      },
      "source": [
        "!python -m spacy download en_core_web_sm"
      ],
      "execution_count": 2,
      "outputs": [
        {
          "output_type": "stream",
          "text": [
            "Collecting en_core_web_sm==2.2.5\n",
            "  Downloading https://github.com/explosion/spacy-models/releases/download/en_core_web_sm-2.2.5/en_core_web_sm-2.2.5.tar.gz (12.0 MB)\n",
            "\u001b[K     |████████████████████████████████| 12.0 MB 9.5 MB/s \n",
            "\u001b[?25hRequirement already satisfied: spacy>=2.2.2 in /usr/local/lib/python3.7/dist-packages (from en_core_web_sm==2.2.5) (2.2.4)\n",
            "Requirement already satisfied: thinc==7.4.0 in /usr/local/lib/python3.7/dist-packages (from spacy>=2.2.2->en_core_web_sm==2.2.5) (7.4.0)\n",
            "Requirement already satisfied: setuptools in /usr/local/lib/python3.7/dist-packages (from spacy>=2.2.2->en_core_web_sm==2.2.5) (57.2.0)\n",
            "Requirement already satisfied: murmurhash<1.1.0,>=0.28.0 in /usr/local/lib/python3.7/dist-packages (from spacy>=2.2.2->en_core_web_sm==2.2.5) (1.0.5)\n",
            "Requirement already satisfied: tqdm<5.0.0,>=4.38.0 in /usr/local/lib/python3.7/dist-packages (from spacy>=2.2.2->en_core_web_sm==2.2.5) (4.62.0)\n",
            "Requirement already satisfied: requests<3.0.0,>=2.13.0 in /usr/local/lib/python3.7/dist-packages (from spacy>=2.2.2->en_core_web_sm==2.2.5) (2.23.0)\n",
            "Requirement already satisfied: preshed<3.1.0,>=3.0.2 in /usr/local/lib/python3.7/dist-packages (from spacy>=2.2.2->en_core_web_sm==2.2.5) (3.0.5)\n",
            "Requirement already satisfied: srsly<1.1.0,>=1.0.2 in /usr/local/lib/python3.7/dist-packages (from spacy>=2.2.2->en_core_web_sm==2.2.5) (1.0.5)\n",
            "Requirement already satisfied: plac<1.2.0,>=0.9.6 in /usr/local/lib/python3.7/dist-packages (from spacy>=2.2.2->en_core_web_sm==2.2.5) (1.1.3)\n",
            "Requirement already satisfied: catalogue<1.1.0,>=0.0.7 in /usr/local/lib/python3.7/dist-packages (from spacy>=2.2.2->en_core_web_sm==2.2.5) (1.0.0)\n",
            "Requirement already satisfied: cymem<2.1.0,>=2.0.2 in /usr/local/lib/python3.7/dist-packages (from spacy>=2.2.2->en_core_web_sm==2.2.5) (2.0.5)\n",
            "Requirement already satisfied: wasabi<1.1.0,>=0.4.0 in /usr/local/lib/python3.7/dist-packages (from spacy>=2.2.2->en_core_web_sm==2.2.5) (0.8.2)\n",
            "Requirement already satisfied: numpy>=1.15.0 in /usr/local/lib/python3.7/dist-packages (from spacy>=2.2.2->en_core_web_sm==2.2.5) (1.19.5)\n",
            "Requirement already satisfied: blis<0.5.0,>=0.4.0 in /usr/local/lib/python3.7/dist-packages (from spacy>=2.2.2->en_core_web_sm==2.2.5) (0.4.1)\n",
            "Requirement already satisfied: importlib-metadata>=0.20 in /usr/local/lib/python3.7/dist-packages (from catalogue<1.1.0,>=0.0.7->spacy>=2.2.2->en_core_web_sm==2.2.5) (4.6.3)\n",
            "Requirement already satisfied: typing-extensions>=3.6.4 in /usr/local/lib/python3.7/dist-packages (from importlib-metadata>=0.20->catalogue<1.1.0,>=0.0.7->spacy>=2.2.2->en_core_web_sm==2.2.5) (3.7.4.3)\n",
            "Requirement already satisfied: zipp>=0.5 in /usr/local/lib/python3.7/dist-packages (from importlib-metadata>=0.20->catalogue<1.1.0,>=0.0.7->spacy>=2.2.2->en_core_web_sm==2.2.5) (3.5.0)\n",
            "Requirement already satisfied: urllib3!=1.25.0,!=1.25.1,<1.26,>=1.21.1 in /usr/local/lib/python3.7/dist-packages (from requests<3.0.0,>=2.13.0->spacy>=2.2.2->en_core_web_sm==2.2.5) (1.24.3)\n",
            "Requirement already satisfied: chardet<4,>=3.0.2 in /usr/local/lib/python3.7/dist-packages (from requests<3.0.0,>=2.13.0->spacy>=2.2.2->en_core_web_sm==2.2.5) (3.0.4)\n",
            "Requirement already satisfied: idna<3,>=2.5 in /usr/local/lib/python3.7/dist-packages (from requests<3.0.0,>=2.13.0->spacy>=2.2.2->en_core_web_sm==2.2.5) (2.10)\n",
            "Requirement already satisfied: certifi>=2017.4.17 in /usr/local/lib/python3.7/dist-packages (from requests<3.0.0,>=2.13.0->spacy>=2.2.2->en_core_web_sm==2.2.5) (2021.5.30)\n",
            "\u001b[38;5;2m✔ Download and installation successful\u001b[0m\n",
            "You can now load the model via spacy.load('en_core_web_sm')\n"
          ],
          "name": "stdout"
        }
      ]
    },
    {
      "cell_type": "code",
      "metadata": {
        "colab": {
          "base_uri": "https://localhost:8080/",
          "height": 0
        },
        "id": "kvgLPD7vdhNY",
        "outputId": "9bcf5ce6-5877-4148-8997-b7d3dae230b0"
      },
      "source": [
        "# loading the data from the csv file\n",
        "imdb_data = pd.read_csv('/content/IMDB Dataset.csv', encoding = 'utf-8')\n",
        "print(imdb_data.info())"
      ],
      "execution_count": 3,
      "outputs": [
        {
          "output_type": "stream",
          "text": [
            "<class 'pandas.core.frame.DataFrame'>\n",
            "RangeIndex: 50000 entries, 0 to 49999\n",
            "Data columns (total 2 columns):\n",
            " #   Column     Non-Null Count  Dtype \n",
            "---  ------     --------------  ----- \n",
            " 0   review     50000 non-null  object\n",
            " 1   sentiment  50000 non-null  object\n",
            "dtypes: object(2)\n",
            "memory usage: 781.4+ KB\n",
            "None\n"
          ],
          "name": "stdout"
        }
      ]
    },
    {
      "cell_type": "code",
      "metadata": {
        "colab": {
          "base_uri": "https://localhost:8080/",
          "height": 0
        },
        "id": "9o5i_ZtGaKdt",
        "outputId": "259a78bd-4ceb-463d-fe91-3f7e20e481a0"
      },
      "source": [
        "import nltk\n",
        "nltk.download('wordnet')\n",
        "\n",
        "def initial_preprocessing(text):\n",
        "\n",
        "  # removes HTML tags, emojis and extra characters\n",
        "  tag_removed_text = HTML_TAG_PATTERN.sub('', text)\n",
        "  emoji_removed_text = EMOJI_PATTERN.sub(r'', tag_removed_text)\n",
        "  numberings_removed_text =  NUMBERING_PATTERN.sub('', emoji_removed_text)\n",
        "  extra_chars_removed_text = re.sub(r\"(.)1{2,}\",  r'11', numberings_removed_text)\n",
        "  return extra_chars_removed_text\n",
        "\n",
        "def preprocess_text(doc):\n",
        "\n",
        "  tokens = [token for token in doc if not token.is_space and not token.like_email and not token.like_url and not token.is_stop and \n",
        "            not token.is_punct and not token.like_num ]\n",
        "\n",
        "  # removes special characters in tokens\n",
        "  translation_table = str.maketrans('', '', FILTERS)\n",
        "  translated_tokens = [token.text.lower().translate(translation_table) for token in tokens]\n",
        "\n",
        "  # removes single characters and lemmatize\n",
        "  lemmatized_tokens = [lemmatizer.lemmatize(token) for token in translated_tokens if len(token) > 1]\n",
        "  return lemmatized_tokens"
      ],
      "execution_count": 4,
      "outputs": [
        {
          "output_type": "stream",
          "text": [
            "[nltk_data] Downloading package wordnet to /root/nltk_data...\n",
            "[nltk_data]   Unzipping corpora/wordnet.zip.\n"
          ],
          "name": "stdout"
        }
      ]
    },
    {
      "cell_type": "code",
      "metadata": {
        "id": "WqB4BobFgd76"
      },
      "source": [
        "# preprocessing the text data\n",
        "text_data = imdb_data.iloc[:, 0]\n",
        "text_data = text_data.apply(initial_preprocessing)\n",
        "texts = [preprocess_text(doc) for doc in nlp.pipe(text_data, disable=DISABLE_PIPELINES)]\n",
        "\n",
        "# extracting the labels\n",
        "labels = imdb_data['sentiment'].iloc[:]\n",
        "labels = labels.map(lambda x: 1 if x=='positive' else 0)"
      ],
      "execution_count": 5,
      "outputs": []
    },
    {
      "cell_type": "code",
      "metadata": {
        "id": "eHcA2HlZcDOj"
      },
      "source": [
        "tokenizer = Tokenizer(filters=FILTERS, lower=True)\n",
        "\n",
        "# fitting the tokenizer on texts\n",
        "tokenizer.fit_on_texts(texts)\n",
        "vocab_size = len(tokenizer.word_index) + 1\n",
        "sequences = []\n",
        "max_sequence_len = 0\n",
        "\n",
        "# calculating the maximum sequence length\n",
        "for text in texts:\n",
        "    # convert texts to sequence\n",
        "    txt_to_seq = tokenizer.texts_to_sequences([text])[0]\n",
        "    sequences.append(txt_to_seq)\n",
        "    # find max_sequence_len for padding\n",
        "    txt_to_seq_len = len(txt_to_seq)\n",
        "    if txt_to_seq_len > max_sequence_len:\n",
        "        max_sequence_len = txt_to_seq_len\n",
        "\n",
        "# padding all the sentences to equal length\n",
        "padded_sequences = pad_sequences(sequences, maxlen=max_sequence_len, padding='post')"
      ],
      "execution_count": 6,
      "outputs": []
    },
    {
      "cell_type": "code",
      "metadata": {
        "colab": {
          "base_uri": "https://localhost:8080/",
          "height": 0
        },
        "id": "02_fwsKHzAlw",
        "outputId": "a5c14ba4-6f5f-4384-94d1-be97e94a51cb"
      },
      "source": [
        "# splitting the data into train, test and validation sets\n",
        "X_train, X_temp, y_train, y_temp = train_test_split(padded_sequences, labels.values, test_size = 0.2, stratify = labels.values, random_state = 123)\n",
        "X_val, X_test, y_val, y_test = train_test_split(X_temp, y_temp, test_size = 0.5, stratify = y_temp, random_state = 123)\n",
        "print((len(X_train), len(y_train)))\n",
        "print((len(X_val), len(y_val)))\n",
        "print((len(X_test), len(y_test)))"
      ],
      "execution_count": 7,
      "outputs": [
        {
          "output_type": "stream",
          "text": [
            "(40000, 40000)\n",
            "(5000, 5000)\n",
            "(5000, 5000)\n"
          ],
          "name": "stdout"
        }
      ]
    },
    {
      "cell_type": "code",
      "metadata": {
        "colab": {
          "base_uri": "https://localhost:8080/",
          "height": 0
        },
        "id": "CjGBE3yxiR8f",
        "outputId": "434e956a-d4a4-4756-a3c0-a038eb002263"
      },
      "source": [
        "# building the model\n",
        "model = Sequential()\n",
        "model.add(Embedding(vocab_size, 64, input_length=max_sequence_len-1))\n",
        "model.add(Bidirectional(LSTM(64, return_sequences=True, input_shape=(None, 1))))\n",
        "model.add(Dropout(0.2))\n",
        "model.add(Bidirectional(LSTM(32)))\n",
        "model.add(Dropout(0.2))\n",
        "model.add(Dense(64, activation='relu'))\n",
        "model.add(Dropout(0.1))\n",
        "model.add(Dense(1, activation='sigmoid'))\n",
        "adam = Adam(learning_rate=0.01)\n",
        "model.compile(loss = tf.keras.losses.BinaryCrossentropy(from_logits = True), optimizer = adam, metrics = ['accuracy'])\n",
        "model.summary()"
      ],
      "execution_count": 8,
      "outputs": [
        {
          "output_type": "stream",
          "text": [
            "Model: \"sequential\"\n",
            "_________________________________________________________________\n",
            "Layer (type)                 Output Shape              Param #   \n",
            "=================================================================\n",
            "embedding (Embedding)        (None, 1264, 64)          6741632   \n",
            "_________________________________________________________________\n",
            "bidirectional (Bidirectional (None, 1264, 128)         66048     \n",
            "_________________________________________________________________\n",
            "dropout (Dropout)            (None, 1264, 128)         0         \n",
            "_________________________________________________________________\n",
            "bidirectional_1 (Bidirection (None, 64)                41216     \n",
            "_________________________________________________________________\n",
            "dropout_1 (Dropout)          (None, 64)                0         \n",
            "_________________________________________________________________\n",
            "dense (Dense)                (None, 64)                4160      \n",
            "_________________________________________________________________\n",
            "dropout_2 (Dropout)          (None, 64)                0         \n",
            "_________________________________________________________________\n",
            "dense_1 (Dense)              (None, 1)                 65        \n",
            "=================================================================\n",
            "Total params: 6,853,121\n",
            "Trainable params: 6,853,121\n",
            "Non-trainable params: 0\n",
            "_________________________________________________________________\n"
          ],
          "name": "stdout"
        }
      ]
    },
    {
      "cell_type": "code",
      "metadata": {
        "colab": {
          "base_uri": "https://localhost:8080/",
          "height": 0
        },
        "id": "Tzp1znrzikrL",
        "outputId": "d4ca6dd9-8b0f-4170-be75-7f5b1af3667b"
      },
      "source": [
        "# training the model\n",
        "history = model.fit(padded_sequences, labels.values,  epochs=10, verbose=1, batch_size=64, validation_data=(X_val, y_val))"
      ],
      "execution_count": 9,
      "outputs": [
        {
          "output_type": "stream",
          "text": [
            "Epoch 1/10\n",
            "WARNING:tensorflow:Model was constructed with shape (None, 1264) for input KerasTensor(type_spec=TensorSpec(shape=(None, 1264), dtype=tf.float32, name='embedding_input'), name='embedding_input', description=\"created by layer 'embedding_input'\"), but it was called on an input with incompatible shape (None, 1265).\n"
          ],
          "name": "stdout"
        },
        {
          "output_type": "stream",
          "text": [
            "/usr/local/lib/python3.7/dist-packages/tensorflow/python/keras/backend.py:5017: UserWarning: \"`binary_crossentropy` received `from_logits=True`, but the `output` argument was produced by a sigmoid or softmax activation and thus does not represent logits. Was this intended?\"\n",
            "  '\"`binary_crossentropy` received `from_logits=True`, but the `output`'\n"
          ],
          "name": "stderr"
        },
        {
          "output_type": "stream",
          "text": [
            "WARNING:tensorflow:Model was constructed with shape (None, 1264) for input KerasTensor(type_spec=TensorSpec(shape=(None, 1264), dtype=tf.float32, name='embedding_input'), name='embedding_input', description=\"created by layer 'embedding_input'\"), but it was called on an input with incompatible shape (None, 1265).\n",
            "782/782 [==============================] - ETA: 0s - loss: 0.4372 - accuracy: 0.8026WARNING:tensorflow:Model was constructed with shape (None, 1264) for input KerasTensor(type_spec=TensorSpec(shape=(None, 1264), dtype=tf.float32, name='embedding_input'), name='embedding_input', description=\"created by layer 'embedding_input'\"), but it was called on an input with incompatible shape (None, 1265).\n",
            "782/782 [==============================] - 192s 231ms/step - loss: 0.4372 - accuracy: 0.8026 - val_loss: 0.1995 - val_accuracy: 0.9262\n",
            "Epoch 2/10\n",
            "782/782 [==============================] - 179s 229ms/step - loss: 0.2299 - accuracy: 0.9146 - val_loss: 0.1184 - val_accuracy: 0.9596\n",
            "Epoch 3/10\n",
            "782/782 [==============================] - 180s 230ms/step - loss: 0.1482 - accuracy: 0.9488 - val_loss: 0.0711 - val_accuracy: 0.9794\n",
            "Epoch 4/10\n",
            "782/782 [==============================] - 179s 229ms/step - loss: 0.0932 - accuracy: 0.9688 - val_loss: 0.0452 - val_accuracy: 0.9882\n",
            "Epoch 5/10\n",
            "782/782 [==============================] - 179s 229ms/step - loss: 0.0667 - accuracy: 0.9791 - val_loss: 0.0261 - val_accuracy: 0.9946\n",
            "Epoch 6/10\n",
            "782/782 [==============================] - 178s 227ms/step - loss: 0.0463 - accuracy: 0.9851 - val_loss: 0.0182 - val_accuracy: 0.9942\n",
            "Epoch 7/10\n",
            "782/782 [==============================] - 179s 229ms/step - loss: 0.0383 - accuracy: 0.9885 - val_loss: 0.0185 - val_accuracy: 0.9946\n",
            "Epoch 8/10\n",
            "782/782 [==============================] - 178s 228ms/step - loss: 0.0328 - accuracy: 0.9898 - val_loss: 0.0332 - val_accuracy: 0.9900\n",
            "Epoch 9/10\n",
            "782/782 [==============================] - 178s 228ms/step - loss: 0.0285 - accuracy: 0.9913 - val_loss: 0.0161 - val_accuracy: 0.9944\n",
            "Epoch 10/10\n",
            "782/782 [==============================] - 178s 227ms/step - loss: 0.0289 - accuracy: 0.9908 - val_loss: 0.0144 - val_accuracy: 0.9954\n"
          ],
          "name": "stdout"
        }
      ]
    },
    {
      "cell_type": "code",
      "metadata": {
        "colab": {
          "base_uri": "https://localhost:8080/",
          "height": 312
        },
        "id": "ksXCF89nkRmU",
        "outputId": "e5242257-2228-42c7-b472-9004181c4c86"
      },
      "source": [
        "import matplotlib.pyplot as plt\n",
        "\n",
        "# plotting the training and validation loss\n",
        "plt.plot(history.history['loss'])\n",
        "plt.plot(history.history['val_loss'])\n",
        "plt.legend(['training', 'validation'])\n",
        "plt.title('Training and validation loss')\n",
        "plt.xlabel('Epoch')"
      ],
      "execution_count": 12,
      "outputs": [
        {
          "output_type": "execute_result",
          "data": {
            "text/plain": [
              "Text(0.5, 0, 'Epoch')"
            ]
          },
          "metadata": {
            "tags": []
          },
          "execution_count": 12
        },
        {
          "output_type": "display_data",
          "data": {
            "image/png": "[encoded data removed]",
            "text/plain": [
              "<Figure size 432x288 with 1 Axes>"
            ]
          },
          "metadata": {
            "tags": [],
            "needs_background": "light"
          }
        }
      ]
    },
    {
      "cell_type": "code",
      "metadata": {
        "colab": {
          "base_uri": "https://localhost:8080/",
          "height": 312
        },
        "id": "BNh9sF0tAdIg",
        "outputId": "214e38d5-3dc4-4ccc-b446-e47d8d7550d4"
      },
      "source": [
        "# plotting the training and validation accuracy\n",
        "plt.plot(history.history['accuracy'])\n",
        "plt.plot(history.history['val_accuracy'])\n",
        "plt.legend(['training', 'validation'])\n",
        "plt.title('Training and validation accuracy')\n",
        "plt.xlabel('Epoch')"
      ],
      "execution_count": 13,
      "outputs": [
        {
          "output_type": "execute_result",
          "data": {
            "text/plain": [
              "Text(0.5, 0, 'Epoch')"
            ]
          },
          "metadata": {
            "tags": []
          },
          "execution_count": 13
        },
        {
          "output_type": "display_data",
          "data": {
            "image/png": "[encoded data removed]",
            "text/plain": [
              "<Figure size 432x288 with 1 Axes>"
            ]
          },
          "metadata": {
            "tags": [],
            "needs_background": "light"
          }
        }
      ]
    },
    {
      "cell_type": "code",
      "metadata": {
        "colab": {
          "base_uri": "https://localhost:8080/",
          "height": 0
        },
        "id": "_MFzImDx2fQN",
        "outputId": "080377c9-8e2a-4ee0-ab1e-09229722e8b2"
      },
      "source": [
        "# evaluating the model performance\n",
        "test_loss, test_acc = model.evaluate(X_test, y_test, batch_size = 64)\n",
        "print('The testing loss is: {} and testing accuracy is: {}'.format(test_loss, test_acc))"
      ],
      "execution_count": 11,
      "outputs": [
        {
          "output_type": "stream",
          "text": [
            "79/79 [==============================] - 6s 72ms/step - loss: 0.0161 - accuracy: 0.9956\n",
            "The testing loss is: 0.01607498899102211 and testing accuracy is: 0.9955999851226807\n"
          ],
          "name": "stdout"
        }
      ]
    }
  ]
}